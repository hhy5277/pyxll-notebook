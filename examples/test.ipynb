{
 "cells": [
  {
   "cell_type": "code",
   "execution_count": 1,
   "metadata": {},
   "outputs": [],
   "source": [
    "from pyxll_notebook.server import xl_func"
   ]
  },
  {
   "cell_type": "code",
   "execution_count": 2,
   "metadata": {},
   "outputs": [],
   "source": [
    "@xl_func\n",
    "def test_func(a, b):\n",
    "    \"\"\"test func takes two args\n",
    "    :param a: a\n",
    "    :param b: b\n",
    "    \"\"\"\n",
    "    return a + b"
   ]
  },
  {
   "cell_type": "code",
   "execution_count": 3,
   "metadata": {},
   "outputs": [],
   "source": [
    "@xl_func(\"int, int: int[][]\", auto_resize=True)\n",
    "def auto_resize_test(rows, cols):\n",
    "    result = []\n",
    "    i = 0\n",
    "    for r in range(rows):\n",
    "        row = []\n",
    "        for c in range(cols):\n",
    "            row.append(i)\n",
    "            i += 1\n",
    "        result.append(row)\n",
    "    return result"
   ]
  },
  {
   "cell_type": "code",
   "execution_count": 5,
   "metadata": {},
   "outputs": [],
   "source": [
    "from pyxll_notebook.server import RTD\n",
    "from datetime import datetime\n",
    "import threading\n",
    "import logging\n",
    "import time\n",
    "\n",
    "\n",
    "class CurrentTimeRTD(RTD):\n",
    "    \"\"\"CurrentTimeRTD periodically updates its value with the current\n",
    "    date and time. Whenever the value is updated Excel is notified and\n",
    "    when Excel refreshes the new value will be displayed.\n",
    "    \"\"\"\n",
    "\n",
    "    def __init__(self, format):\n",
    "        initial_value = datetime.now().strftime(format)\n",
    "        super(CurrentTimeRTD, self).__init__(value=initial_value)\n",
    "        self.__format = format\n",
    "        self.__running = True\n",
    "        self.__thread = threading.Thread(target=self.__thread_func)\n",
    "        self.__thread.start()\n",
    "\n",
    "    def connect(self):\n",
    "        # Called when Excel connects to this RTD instance, which occurs\n",
    "        # shortly after an Excel function has returned an RTD object.\n",
    "        print(\"CurrentTimeRTD Connected\")\n",
    "\n",
    "    def disconnect(self):\n",
    "        # Called when Excel no longer needs the RTD instance. This is\n",
    "        # usually because there are no longer any cells that need it\n",
    "        # or because Excel is shutting down.\n",
    "        self.__running = False\n",
    "        print(\"CurrentTimeRTD Disconnected\")\n",
    "\n",
    "    def __thread_func(self):\n",
    "        while self.__running:\n",
    "            # Setting 'value' on an RTD instance triggers an update in Excel\n",
    "            new_value = datetime.now().strftime(self.__format)\n",
    "            if self.value != new_value:\n",
    "                self.value = new_value\n",
    "            time.sleep(0.5)"
   ]
  },
  {
   "cell_type": "code",
   "execution_count": 6,
   "metadata": {},
   "outputs": [],
   "source": [
    "@xl_func(\"string format: rtd\")\n",
    "def remote_rtd_current_time(format=\"%Y-%m-%d %H:%M:%S\"):\n",
    "    \"\"\"Return the current time as 'real time data' that\n",
    "    updates automatically.\n",
    "\n",
    "    :param format: datetime format string\n",
    "    \"\"\"\n",
    "    return CurrentTimeRTD(format)"
   ]
  },
  {
   "cell_type": "code",
   "execution_count": null,
   "metadata": {},
   "outputs": [],
   "source": []
  }
 ],
 "metadata": {
  "kernelspec": {
   "display_name": "Python 3",
   "language": "python",
   "name": "python3"
  },
  "language_info": {
   "codemirror_mode": {
    "name": "ipython",
    "version": 3
   },
   "file_extension": ".py",
   "mimetype": "text/x-python",
   "name": "python",
   "nbconvert_exporter": "python",
   "pygments_lexer": "ipython3",
   "version": "3.7.3"
  }
 },
 "nbformat": 4,
 "nbformat_minor": 2
}
